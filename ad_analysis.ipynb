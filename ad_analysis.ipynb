{
 "cells": [
  {
   "cell_type": "markdown",
   "metadata": {},
   "source": [
    "## Advertising Analytics\n",
    "\n",
    "To understand the performance of a variety of advertisment groups we first calculate performance metrics, then we attempt to forecast the number of adds shown 3 weeks ahead. Finally we calculate the percent change in cost per click and cluster the ad groups accordingly. "
   ]
  },
  {
   "cell_type": "code",
   "execution_count": 7,
   "metadata": {},
   "outputs": [],
   "source": [
    "import pandas as pd\n",
    "#ads = pd.read_csv(\"https://raw.githubusercontent.com/ishaojunzhang/ads/master/ad_table.csv\")\n",
    "ads = pd.read_csv(\"ad_table.csv\")\n",
    "import numpy as np"
   ]
  },
  {
   "cell_type": "code",
   "execution_count": 9,
   "metadata": {},
   "outputs": [],
   "source": [
    "ads =ads[ads.columns[1:]]"
   ]
  },
  {
   "cell_type": "markdown",
   "metadata": {},
   "source": [
    "## Question 1\n",
    "\n",
    "If you had to identify the 5 best ad groups, which ones would they be? Which metric did you choose to identify the best ad groups? Why? Explain the pros of your metric as well as the possible cons."
   ]
  },
  {
   "cell_type": "markdown",
   "metadata": {},
   "source": [
    "We selected net profit, profit per click and average conversion rate as metrics to identify the best ad groups. \n",
    "\n",
    "## Net Profit:\n",
    "Simple to calculate.  sum (total revenue - cost/click * clicked). Is good at differentiating between really strongly performing groups and poorly performing groups but a large profit may require a substantial revenue stream behind it. Additionally the data provided is only a sample and such a gross statistic may no be indicative of the general performance of a given group\n",
    "\n",
    "## Profit Per Click:\n",
    "After calculating the daily profit for each ad group we can calculate profit/click which provides a stronger indication of the unit benefit for increase in a given ad group. \n",
    "\n",
    "## Conversion Rate:\n",
    "We calculate the number of conversion (number of interactions with our underlying product)/ (number of clicks). Despite not being directly focused on the profit this metrics is important because it determines our product success through user interests as well as gauging the efficacy of our advertisment. "
   ]
  },
  {
   "cell_type": "code",
   "execution_count": 149,
   "metadata": {},
   "outputs": [
    {
     "data": {
      "text/html": [
       "<div>\n",
       "<style scoped>\n",
       "    .dataframe tbody tr th:only-of-type {\n",
       "        vertical-align: middle;\n",
       "    }\n",
       "\n",
       "    .dataframe tbody tr th {\n",
       "        vertical-align: top;\n",
       "    }\n",
       "\n",
       "    .dataframe thead th {\n",
       "        text-align: right;\n",
       "    }\n",
       "</style>\n",
       "<table border=\"1\" class=\"dataframe\">\n",
       "  <thead>\n",
       "    <tr style=\"text-align: right;\">\n",
       "      <th></th>\n",
       "      <th>date</th>\n",
       "      <th>shown</th>\n",
       "      <th>clicked</th>\n",
       "      <th>converted</th>\n",
       "      <th>avg_cost_per_click</th>\n",
       "      <th>total_revenue</th>\n",
       "      <th>ad</th>\n",
       "      <th>profit</th>\n",
       "    </tr>\n",
       "  </thead>\n",
       "  <tbody>\n",
       "    <tr>\n",
       "      <th>0</th>\n",
       "      <td>10/1/15</td>\n",
       "      <td>65877</td>\n",
       "      <td>2339</td>\n",
       "      <td>43</td>\n",
       "      <td>0.90</td>\n",
       "      <td>641.62</td>\n",
       "      <td>ad_group_1</td>\n",
       "      <td>-1463.48</td>\n",
       "    </tr>\n",
       "    <tr>\n",
       "      <th>1</th>\n",
       "      <td>10/2/15</td>\n",
       "      <td>65100</td>\n",
       "      <td>2498</td>\n",
       "      <td>38</td>\n",
       "      <td>0.94</td>\n",
       "      <td>756.37</td>\n",
       "      <td>ad_group_1</td>\n",
       "      <td>-1591.75</td>\n",
       "    </tr>\n",
       "    <tr>\n",
       "      <th>2</th>\n",
       "      <td>10/3/15</td>\n",
       "      <td>70658</td>\n",
       "      <td>2313</td>\n",
       "      <td>49</td>\n",
       "      <td>0.86</td>\n",
       "      <td>970.90</td>\n",
       "      <td>ad_group_1</td>\n",
       "      <td>-1018.28</td>\n",
       "    </tr>\n",
       "    <tr>\n",
       "      <th>3</th>\n",
       "      <td>10/4/15</td>\n",
       "      <td>69809</td>\n",
       "      <td>2833</td>\n",
       "      <td>51</td>\n",
       "      <td>1.01</td>\n",
       "      <td>907.39</td>\n",
       "      <td>ad_group_1</td>\n",
       "      <td>-1953.94</td>\n",
       "    </tr>\n",
       "    <tr>\n",
       "      <th>4</th>\n",
       "      <td>10/5/15</td>\n",
       "      <td>68186</td>\n",
       "      <td>2696</td>\n",
       "      <td>41</td>\n",
       "      <td>1.00</td>\n",
       "      <td>879.45</td>\n",
       "      <td>ad_group_1</td>\n",
       "      <td>-1816.55</td>\n",
       "    </tr>\n",
       "    <tr>\n",
       "      <th>...</th>\n",
       "      <td>...</td>\n",
       "      <td>...</td>\n",
       "      <td>...</td>\n",
       "      <td>...</td>\n",
       "      <td>...</td>\n",
       "      <td>...</td>\n",
       "      <td>...</td>\n",
       "      <td>...</td>\n",
       "    </tr>\n",
       "    <tr>\n",
       "      <th>2110</th>\n",
       "      <td>11/18/15</td>\n",
       "      <td>78111</td>\n",
       "      <td>1326</td>\n",
       "      <td>37</td>\n",
       "      <td>1.01</td>\n",
       "      <td>553.36</td>\n",
       "      <td>ad_group_40</td>\n",
       "      <td>-785.90</td>\n",
       "    </tr>\n",
       "    <tr>\n",
       "      <th>2111</th>\n",
       "      <td>11/19/15</td>\n",
       "      <td>79857</td>\n",
       "      <td>1413</td>\n",
       "      <td>34</td>\n",
       "      <td>1.00</td>\n",
       "      <td>840.72</td>\n",
       "      <td>ad_group_40</td>\n",
       "      <td>-572.28</td>\n",
       "    </tr>\n",
       "    <tr>\n",
       "      <th>2112</th>\n",
       "      <td>11/20/15</td>\n",
       "      <td>75695</td>\n",
       "      <td>1332</td>\n",
       "      <td>35</td>\n",
       "      <td>1.09</td>\n",
       "      <td>468.95</td>\n",
       "      <td>ad_group_40</td>\n",
       "      <td>-982.93</td>\n",
       "    </tr>\n",
       "    <tr>\n",
       "      <th>2113</th>\n",
       "      <td>11/21/15</td>\n",
       "      <td>73761</td>\n",
       "      <td>1336</td>\n",
       "      <td>36</td>\n",
       "      <td>1.11</td>\n",
       "      <td>437.03</td>\n",
       "      <td>ad_group_40</td>\n",
       "      <td>-1045.93</td>\n",
       "    </tr>\n",
       "    <tr>\n",
       "      <th>2114</th>\n",
       "      <td>11/22/15</td>\n",
       "      <td>77907</td>\n",
       "      <td>1391</td>\n",
       "      <td>34</td>\n",
       "      <td>0.99</td>\n",
       "      <td>409.30</td>\n",
       "      <td>ad_group_40</td>\n",
       "      <td>-967.79</td>\n",
       "    </tr>\n",
       "  </tbody>\n",
       "</table>\n",
       "<p>2115 rows × 8 columns</p>\n",
       "</div>"
      ],
      "text/plain": [
       "          date  shown  clicked  converted  avg_cost_per_click  total_revenue  \\\n",
       "0      10/1/15  65877     2339         43                0.90         641.62   \n",
       "1      10/2/15  65100     2498         38                0.94         756.37   \n",
       "2      10/3/15  70658     2313         49                0.86         970.90   \n",
       "3      10/4/15  69809     2833         51                1.01         907.39   \n",
       "4      10/5/15  68186     2696         41                1.00         879.45   \n",
       "...        ...    ...      ...        ...                 ...            ...   \n",
       "2110  11/18/15  78111     1326         37                1.01         553.36   \n",
       "2111  11/19/15  79857     1413         34                1.00         840.72   \n",
       "2112  11/20/15  75695     1332         35                1.09         468.95   \n",
       "2113  11/21/15  73761     1336         36                1.11         437.03   \n",
       "2114  11/22/15  77907     1391         34                0.99         409.30   \n",
       "\n",
       "               ad   profit  \n",
       "0      ad_group_1 -1463.48  \n",
       "1      ad_group_1 -1591.75  \n",
       "2      ad_group_1 -1018.28  \n",
       "3      ad_group_1 -1953.94  \n",
       "4      ad_group_1 -1816.55  \n",
       "...           ...      ...  \n",
       "2110  ad_group_40  -785.90  \n",
       "2111  ad_group_40  -572.28  \n",
       "2112  ad_group_40  -982.93  \n",
       "2113  ad_group_40 -1045.93  \n",
       "2114  ad_group_40  -967.79  \n",
       "\n",
       "[2115 rows x 8 columns]"
      ]
     },
     "execution_count": 149,
     "metadata": {},
     "output_type": "execute_result"
    }
   ],
   "source": [
    "ads"
   ]
  },
  {
   "cell_type": "code",
   "execution_count": 108,
   "metadata": {},
   "outputs": [],
   "source": [
    "def calculate_ad_metrics(df):\n",
    "    #calculate net profit\n",
    "    profit = df[\"total_revenue\"] - df[\"avg_cost_per_click\"]*df[\"clicked\"]\n",
    "    #calculate p.p.c\n",
    "    total_clicks = sum(df[\"clicked\"])\n",
    "    total_profit = sum(profit)\n",
    "    profit_per_click = total_profit/total_clicks\n",
    "    #conversion rate\n",
    "    conversion_rate = df[\"converted\"]/df[\"clicked\"] \n",
    "    #average conversion rate \n",
    "    mean_conversion = np.mean(conversion_rate)\n",
    "    df[\"profit\"] = profit\n",
    "    df[\"net_profit\"] = sum(profit)\n",
    "    df[\"profit_per_click\"] = profit_per_click\n",
    "    df[\"average_conversion_rate\"] = mean_conversion\n",
    "    return df"
   ]
  },
  {
   "cell_type": "code",
   "execution_count": 138,
   "metadata": {},
   "outputs": [],
   "source": [
    "#We apply the calculate ad metrics and then sort in reverse seperately on each metric, taking the top 5\n",
    "metrics = ads.groupby(\"ad\").apply(calculate_ad_metrics)\n",
    "profit_group = metrics[[\"ad\",\"net_profit\"]].groupby(\"ad\").mean().sort_values(by=\"net_profit\",ascending=False)[:5]\n",
    "profit_per_group = metrics[[\"ad\",\"profit_per_click\"]].groupby(\"ad\").mean().sort_values(by=\"profit_per_click\",ascending=False)[:5]\n",
    "conversion_group = metrics[[\"ad\",\"average_conversion_rate\"]].groupby(\"ad\").mean().sort_values(by=\"average_conversion_rate\",ascending=False)[:5]"
   ]
  },
  {
   "cell_type": "code",
   "execution_count": 152,
   "metadata": {},
   "outputs": [
    {
     "data": {
      "image/png": "[encoded data removed]",
      "text/plain": [
       "<Figure size 576x1152 with 3 Axes>"
      ]
     },
     "metadata": {
      "needs_background": "light"
     },
     "output_type": "display_data"
    }
   ],
   "source": [
    "#Finally we plot the metrics for each ad group\n",
    "fig, ax = plt.subplots(nrows=3,ncols=1,figsize= (8, 16))\n",
    "dfs= [profit_group, profit_per_group, conversion_group]\n",
    "metric_name = [\"net profit\", \"profit per click\", \"mean conversion\"]\n",
    "def plot_metrics(metric_df, ind):\n",
    "    groups = list(metric_df.index)\n",
    "    vals = metric_df[metric_df.columns[0]]\n",
    "    ax[ind].bar(groups,vals)\n",
    "    ax[ind].set_xlabel(\"Ad Groups\")\n",
    "    ax[ind].set_title(metric_name[ind])\n",
    "for i in range(len(dfs)):\n",
    "    plot_metrics(dfs[i],i)"
   ]
  },
  {
   "cell_type": "markdown",
   "metadata": {},
   "source": [
    "## Question 2\n",
    "For each group, predict how many ads will be shown on Dec, 15 (assume each ad group keeps following its trend)."
   ]
  },
  {
   "cell_type": "markdown",
   "metadata": {},
   "source": [
    "December 15 is 23 days from the last observation\n",
    "So we utilize an ARIMA model to forecast each the number of ads shown for each ad group\n"
   ]
  },
  {
   "cell_type": "code",
   "execution_count": 350,
   "metadata": {},
   "outputs": [
    {
     "data": {
      "text/plain": [
       "[<matplotlib.lines.Line2D at 0x2940f5e5e48>]"
      ]
     },
     "execution_count": 350,
     "metadata": {},
     "output_type": "execute_result"
    },
    {
     "data": {
      "image/png": "[encoded data removed]",
      "text/plain": [
       "<Figure size 432x288 with 1 Axes>"
      ]
     },
     "metadata": {
      "needs_background": "light"
     },
     "output_type": "display_data"
    }
   ],
   "source": [
    "plt.plot(np.arange(53),ads[ads.ad == \"ad_group_1\"][\"shown\"].values)\n",
    "plt.plot(np.arange(53),ads[ads.ad == \"ad_group_2\"][\"shown\"].values)\n",
    "plt.plot(np.arange(53),ads[ads.ad == \"ad_group_9\"][\"shown\"].values)\n",
    "#len(ads[ads.ad == \"ad_group_4\"][\"shown\"])"
   ]
  },
  {
   "cell_type": "code",
   "execution_count": 351,
   "metadata": {},
   "outputs": [],
   "source": [
    "from statsmodels.tsa.arima.model import ARIMA\n",
    "from random import random\n",
    "def forecast_ads(df):\n",
    "    data =  df[\"shown\"].values\n",
    "    model = ARIMA(data, order=(1, 2,1 ))\n",
    "    model_fit = model.fit()\n",
    "    yhat = model_fit.predict(0, len(data)+23, type='levels')\n",
    "    df[\"forecast\"] = yhat[-1]\n",
    "    return df"
   ]
  },
  {
   "cell_type": "code",
   "execution_count": 352,
   "metadata": {},
   "outputs": [
    {
     "name": "stderr",
     "output_type": "stream",
     "text": [
      "C:\\Users\\Levente\\anaconda3\\lib\\site-packages\\statsmodels\\tsa\\statespace\\sarimax.py:975: UserWarning: Non-invertible starting MA parameters found. Using zeros as starting parameters.\n",
      "  warn('Non-invertible starting MA parameters found.'\n"
     ]
    }
   ],
   "source": [
    "forecasted_ads = ads.groupby(\"ad\").apply(forecast_ads)"
   ]
  },
  {
   "cell_type": "markdown",
   "metadata": {},
   "source": [
    "## Question 3\n",
    "\n",
    "Cluster ads into 3 groups: the ones whose avg_cost_per_click is going up, the ones whose avg_cost_per_click is flat and the ones whose avg_cost_per_click is going down."
   ]
  },
  {
   "cell_type": "markdown",
   "metadata": {},
   "source": [
    "1. First we need to attach a numeric value to Change in AVG cost per click for this we can use the slope from linear regression\n",
    "2. Once we have the trends calculated we can then cluster them using some hard margin or an algorithm like Kmeans\n"
   ]
  },
  {
   "cell_type": "code",
   "execution_count": 353,
   "metadata": {},
   "outputs": [
    {
     "data": {
      "text/plain": [
       "array([0.9 , 0.94, 0.86, 1.01, 1.  , 0.98, 0.94, 1.07, 0.88, 0.93, 0.87,\n",
       "       0.97, 1.14, 0.96, 0.81, 0.96, 1.12, 0.95, 0.97, 0.99, 0.97, 0.88,\n",
       "       0.96, 0.96, 1.06, 0.89, 0.97, 1.08, 1.01, 0.96, 0.97, 0.95, 0.93,\n",
       "       0.9 , 1.  , 0.96, 0.93, 0.85, 1.09, 0.96, 0.93, 1.05, 0.87, 1.02,\n",
       "       1.01, 1.  , 1.01, 0.92, 1.09, 1.  , 1.08, 0.99, 0.98])"
      ]
     },
     "execution_count": 353,
     "metadata": {},
     "output_type": "execute_result"
    }
   ],
   "source": [
    "aa = ads[ads.ad == \"ad_group_1\"][\"avg_cost_per_click\"].values\n",
    "aa"
   ]
  },
  {
   "cell_type": "code",
   "execution_count": 370,
   "metadata": {},
   "outputs": [],
   "source": [
    "from sklearn.linear_model import LinearRegression\n",
    "def percent_change_cost_per_click(df,plot=True):\n",
    "    lg = LinearRegression()\n",
    "    data = df[\"avg_cost_per_click\"]\n",
    "    lg.fit(np.arange(len(data)).reshape(-1,1), data)\n",
    "    preds = lg.predict(np.arange(len(data)).reshape(-1,1))\n",
    "    percent_increase = (preds[-1] - preds[0])/ preds[0]\n",
    "    \n",
    "    if plot:\n",
    "        plt.plot(preds)\n",
    "        print(percent_increase)\n",
    "        plt.plot(np.arange(len(data)).reshape(-1,1), data)\n",
    "        plt.show()\n",
    "    df[\"percent_increase\"] = percent_increase\n",
    "    return df"
   ]
  },
  {
   "cell_type": "markdown",
   "metadata": {},
   "source": [
    "Below we can see the linear regression and corresponding percentage change for a part of the dataset"
   ]
  },
  {
   "cell_type": "code",
   "execution_count": 371,
   "metadata": {},
   "outputs": [
    {
     "name": "stdout",
     "output_type": "stream",
     "text": [
      "0.05085983666423216\n"
     ]
    },
    {
     "data": {
      "image/png": "[encoded data removed]",
      "text/plain": [
       "<Figure size 432x288 with 1 Axes>"
      ]
     },
     "metadata": {
      "needs_background": "light"
     },
     "output_type": "display_data"
    },
    {
     "name": "stdout",
     "output_type": "stream",
     "text": [
      "-0.0005255205938382941\n"
     ]
    },
    {
     "data": {
      "image/png": "[encoded data removed]",
      "text/plain": [
       "<Figure size 432x288 with 1 Axes>"
      ]
     },
     "metadata": {
      "needs_background": "light"
     },
     "output_type": "display_data"
    },
    {
     "name": "stdout",
     "output_type": "stream",
     "text": [
      "0.04854617650826182\n"
     ]
    },
    {
     "data": {
      "image/png": "[encoded data removed]",
      "text/plain": [
       "<Figure size 432x288 with 1 Axes>"
      ]
     },
     "metadata": {
      "needs_background": "light"
     },
     "output_type": "display_data"
    },
    {
     "name": "stdout",
     "output_type": "stream",
     "text": [
      "-0.008302821598225058\n"
     ]
    },
    {
     "data": {
      "image/png": "[encoded data removed]",
      "text/plain": [
       "<Figure size 432x288 with 1 Axes>"
      ]
     },
     "metadata": {
      "needs_background": "light"
     },
     "output_type": "display_data"
    },
    {
     "data": {
      "text/html": [
       "<div>\n",
       "<style scoped>\n",
       "    .dataframe tbody tr th:only-of-type {\n",
       "        vertical-align: middle;\n",
       "    }\n",
       "\n",
       "    .dataframe tbody tr th {\n",
       "        vertical-align: top;\n",
       "    }\n",
       "\n",
       "    .dataframe thead th {\n",
       "        text-align: right;\n",
       "    }\n",
       "</style>\n",
       "<table border=\"1\" class=\"dataframe\">\n",
       "  <thead>\n",
       "    <tr style=\"text-align: right;\">\n",
       "      <th></th>\n",
       "      <th>date</th>\n",
       "      <th>shown</th>\n",
       "      <th>clicked</th>\n",
       "      <th>converted</th>\n",
       "      <th>avg_cost_per_click</th>\n",
       "      <th>total_revenue</th>\n",
       "      <th>ad</th>\n",
       "      <th>profit</th>\n",
       "      <th>percent_increase</th>\n",
       "    </tr>\n",
       "  </thead>\n",
       "  <tbody>\n",
       "    <tr>\n",
       "      <th>0</th>\n",
       "      <td>10/1/15</td>\n",
       "      <td>65877</td>\n",
       "      <td>2339</td>\n",
       "      <td>43</td>\n",
       "      <td>0.90</td>\n",
       "      <td>641.62</td>\n",
       "      <td>ad_group_1</td>\n",
       "      <td>-1463.48</td>\n",
       "      <td>0.050860</td>\n",
       "    </tr>\n",
       "    <tr>\n",
       "      <th>1</th>\n",
       "      <td>10/2/15</td>\n",
       "      <td>65100</td>\n",
       "      <td>2498</td>\n",
       "      <td>38</td>\n",
       "      <td>0.94</td>\n",
       "      <td>756.37</td>\n",
       "      <td>ad_group_1</td>\n",
       "      <td>-1591.75</td>\n",
       "      <td>0.050860</td>\n",
       "    </tr>\n",
       "    <tr>\n",
       "      <th>2</th>\n",
       "      <td>10/3/15</td>\n",
       "      <td>70658</td>\n",
       "      <td>2313</td>\n",
       "      <td>49</td>\n",
       "      <td>0.86</td>\n",
       "      <td>970.90</td>\n",
       "      <td>ad_group_1</td>\n",
       "      <td>-1018.28</td>\n",
       "      <td>0.050860</td>\n",
       "    </tr>\n",
       "    <tr>\n",
       "      <th>3</th>\n",
       "      <td>10/4/15</td>\n",
       "      <td>69809</td>\n",
       "      <td>2833</td>\n",
       "      <td>51</td>\n",
       "      <td>1.01</td>\n",
       "      <td>907.39</td>\n",
       "      <td>ad_group_1</td>\n",
       "      <td>-1953.94</td>\n",
       "      <td>0.050860</td>\n",
       "    </tr>\n",
       "    <tr>\n",
       "      <th>4</th>\n",
       "      <td>10/5/15</td>\n",
       "      <td>68186</td>\n",
       "      <td>2696</td>\n",
       "      <td>41</td>\n",
       "      <td>1.00</td>\n",
       "      <td>879.45</td>\n",
       "      <td>ad_group_1</td>\n",
       "      <td>-1816.55</td>\n",
       "      <td>0.050860</td>\n",
       "    </tr>\n",
       "    <tr>\n",
       "      <th>...</th>\n",
       "      <td>...</td>\n",
       "      <td>...</td>\n",
       "      <td>...</td>\n",
       "      <td>...</td>\n",
       "      <td>...</td>\n",
       "      <td>...</td>\n",
       "      <td>...</td>\n",
       "      <td>...</td>\n",
       "      <td>...</td>\n",
       "    </tr>\n",
       "    <tr>\n",
       "      <th>195</th>\n",
       "      <td>11/6/15</td>\n",
       "      <td>97299</td>\n",
       "      <td>8679</td>\n",
       "      <td>497</td>\n",
       "      <td>2.75</td>\n",
       "      <td>5122.17</td>\n",
       "      <td>ad_group_4</td>\n",
       "      <td>-18745.08</td>\n",
       "      <td>-0.008303</td>\n",
       "    </tr>\n",
       "    <tr>\n",
       "      <th>196</th>\n",
       "      <td>11/7/15</td>\n",
       "      <td>92297</td>\n",
       "      <td>7954</td>\n",
       "      <td>554</td>\n",
       "      <td>2.48</td>\n",
       "      <td>14174.00</td>\n",
       "      <td>ad_group_4</td>\n",
       "      <td>-5551.92</td>\n",
       "      <td>-0.008303</td>\n",
       "    </tr>\n",
       "    <tr>\n",
       "      <th>197</th>\n",
       "      <td>11/8/15</td>\n",
       "      <td>89455</td>\n",
       "      <td>8518</td>\n",
       "      <td>365</td>\n",
       "      <td>2.61</td>\n",
       "      <td>6793.77</td>\n",
       "      <td>ad_group_4</td>\n",
       "      <td>-15438.21</td>\n",
       "      <td>-0.008303</td>\n",
       "    </tr>\n",
       "    <tr>\n",
       "      <th>198</th>\n",
       "      <td>11/9/15</td>\n",
       "      <td>94671</td>\n",
       "      <td>7557</td>\n",
       "      <td>545</td>\n",
       "      <td>2.48</td>\n",
       "      <td>9370.20</td>\n",
       "      <td>ad_group_4</td>\n",
       "      <td>-9371.16</td>\n",
       "      <td>-0.008303</td>\n",
       "    </tr>\n",
       "    <tr>\n",
       "      <th>199</th>\n",
       "      <td>11/10/15</td>\n",
       "      <td>94852</td>\n",
       "      <td>7989</td>\n",
       "      <td>469</td>\n",
       "      <td>2.60</td>\n",
       "      <td>5667.89</td>\n",
       "      <td>ad_group_4</td>\n",
       "      <td>-15103.51</td>\n",
       "      <td>-0.008303</td>\n",
       "    </tr>\n",
       "  </tbody>\n",
       "</table>\n",
       "<p>200 rows × 9 columns</p>\n",
       "</div>"
      ],
      "text/plain": [
       "         date  shown  clicked  converted  avg_cost_per_click  total_revenue  \\\n",
       "0     10/1/15  65877     2339         43                0.90         641.62   \n",
       "1     10/2/15  65100     2498         38                0.94         756.37   \n",
       "2     10/3/15  70658     2313         49                0.86         970.90   \n",
       "3     10/4/15  69809     2833         51                1.01         907.39   \n",
       "4     10/5/15  68186     2696         41                1.00         879.45   \n",
       "..        ...    ...      ...        ...                 ...            ...   \n",
       "195   11/6/15  97299     8679        497                2.75        5122.17   \n",
       "196   11/7/15  92297     7954        554                2.48       14174.00   \n",
       "197   11/8/15  89455     8518        365                2.61        6793.77   \n",
       "198   11/9/15  94671     7557        545                2.48        9370.20   \n",
       "199  11/10/15  94852     7989        469                2.60        5667.89   \n",
       "\n",
       "             ad    profit  percent_increase  \n",
       "0    ad_group_1  -1463.48          0.050860  \n",
       "1    ad_group_1  -1591.75          0.050860  \n",
       "2    ad_group_1  -1018.28          0.050860  \n",
       "3    ad_group_1  -1953.94          0.050860  \n",
       "4    ad_group_1  -1816.55          0.050860  \n",
       "..          ...       ...               ...  \n",
       "195  ad_group_4 -18745.08         -0.008303  \n",
       "196  ad_group_4  -5551.92         -0.008303  \n",
       "197  ad_group_4 -15438.21         -0.008303  \n",
       "198  ad_group_4  -9371.16         -0.008303  \n",
       "199  ad_group_4 -15103.51         -0.008303  \n",
       "\n",
       "[200 rows x 9 columns]"
      ]
     },
     "execution_count": 371,
     "metadata": {},
     "output_type": "execute_result"
    }
   ],
   "source": [
    "ads.iloc[:200].groupby(\"ad\").apply(percent_change_cost_per_click)"
   ]
  },
  {
   "cell_type": "code",
   "execution_count": 373,
   "metadata": {},
   "outputs": [],
   "source": [
    "ads = ads.groupby(\"ad\").apply(percent_change_cost_per_click, plot = False)"
   ]
  },
  {
   "cell_type": "code",
   "execution_count": 461,
   "metadata": {},
   "outputs": [],
   "source": [
    "percent_increases = ads[[\"ad\",\"percent_increase\"]].groupby(\"ad\").mean(\"percent_increase\")\n",
    "ar = pd.DataFrame(ads.groupby(\"ad\").mean(\"percent_increase\")[\"percent_increase\"])\n",
    "ar = ar.sort_values(by=\"percent_increase\")\n",
    "#ar = np.digitize(ar,np.linspace(0,max(ar),3))"
   ]
  },
  {
   "cell_type": "markdown",
   "metadata": {},
   "source": [
    "Binning the percent increase in this way does not equally split the values. The next way we could cluster the values in a more\n",
    "relevant way would be to designate   \n",
    "-5% <=percent_increase<=5% as flat\n",
    "\n",
    "with >5% as increasing \n",
    "\n",
    "and <5% as decreasing in cost"
   ]
  },
  {
   "cell_type": "code",
   "execution_count": 464,
   "metadata": {},
   "outputs": [],
   "source": [
    "def cluster_percent_change(df):\n",
    "    if (df[\"percent_increase\"].unique()[0] <= 0.05) & (df[\"percent_increase\"].unique()[0]>= -0.05):\n",
    "        df[\"cost_per_click_cluster\"] = 0\n",
    "    elif df[\"percent_increase\"].unique()[0] > 0.05 :\n",
    "        df[\"cost_per_click_cluster\"] = 1\n",
    "    else:\n",
    "        df[\"cost_per_click_cluster\"] = -1 \n",
    "    return df"
   ]
  },
  {
   "cell_type": "code",
   "execution_count": 482,
   "metadata": {},
   "outputs": [
    {
     "data": {
      "text/html": [
       "<div>\n",
       "<style scoped>\n",
       "    .dataframe tbody tr th:only-of-type {\n",
       "        vertical-align: middle;\n",
       "    }\n",
       "\n",
       "    .dataframe tbody tr th {\n",
       "        vertical-align: top;\n",
       "    }\n",
       "\n",
       "    .dataframe thead th {\n",
       "        text-align: right;\n",
       "    }\n",
       "</style>\n",
       "<table border=\"1\" class=\"dataframe\">\n",
       "  <thead>\n",
       "    <tr style=\"text-align: right;\">\n",
       "      <th></th>\n",
       "      <th>cost_per_click_cluster</th>\n",
       "    </tr>\n",
       "    <tr>\n",
       "      <th>ad</th>\n",
       "      <th></th>\n",
       "    </tr>\n",
       "  </thead>\n",
       "  <tbody>\n",
       "    <tr>\n",
       "      <th>ad_group_1</th>\n",
       "      <td>1.0</td>\n",
       "    </tr>\n",
       "    <tr>\n",
       "      <th>ad_group_10</th>\n",
       "      <td>0.0</td>\n",
       "    </tr>\n",
       "    <tr>\n",
       "      <th>ad_group_11</th>\n",
       "      <td>-1.0</td>\n",
       "    </tr>\n",
       "    <tr>\n",
       "      <th>ad_group_12</th>\n",
       "      <td>-1.0</td>\n",
       "    </tr>\n",
       "    <tr>\n",
       "      <th>ad_group_13</th>\n",
       "      <td>0.0</td>\n",
       "    </tr>\n",
       "    <tr>\n",
       "      <th>ad_group_14</th>\n",
       "      <td>-1.0</td>\n",
       "    </tr>\n",
       "    <tr>\n",
       "      <th>ad_group_15</th>\n",
       "      <td>0.0</td>\n",
       "    </tr>\n",
       "    <tr>\n",
       "      <th>ad_group_16</th>\n",
       "      <td>0.0</td>\n",
       "    </tr>\n",
       "    <tr>\n",
       "      <th>ad_group_17</th>\n",
       "      <td>0.0</td>\n",
       "    </tr>\n",
       "    <tr>\n",
       "      <th>ad_group_18</th>\n",
       "      <td>0.0</td>\n",
       "    </tr>\n",
       "  </tbody>\n",
       "</table>\n",
       "</div>"
      ],
      "text/plain": [
       "             cost_per_click_cluster\n",
       "ad                                 \n",
       "ad_group_1                      1.0\n",
       "ad_group_10                     0.0\n",
       "ad_group_11                    -1.0\n",
       "ad_group_12                    -1.0\n",
       "ad_group_13                     0.0\n",
       "ad_group_14                    -1.0\n",
       "ad_group_15                     0.0\n",
       "ad_group_16                     0.0\n",
       "ad_group_17                     0.0\n",
       "ad_group_18                     0.0"
      ]
     },
     "execution_count": 482,
     "metadata": {},
     "output_type": "execute_result"
    }
   ],
   "source": [
    "#We can see some of the clusters below\n",
    "cluster = ads.groupby(\"ad\").apply(cluster_percent_change).groupby(\"ad\").mean(\"cost_per_click_cluster\")\n",
    "cluster = pd.DataFrame(cluster[\"cost_per_click_cluster\"])\n",
    "cluster.iloc[:10]"
   ]
  },
  {
   "cell_type": "markdown",
   "metadata": {},
   "source": [
    "We can see our cluster breakdown by applying the cluster_percent_change function and then grouping by the cluster"
   ]
  },
  {
   "cell_type": "code",
   "execution_count": 470,
   "metadata": {},
   "outputs": [
    {
     "data": {
      "text/plain": [
       "Text(0.5, 1.0, 'Count of Clusters')"
      ]
     },
     "execution_count": 470,
     "metadata": {},
     "output_type": "execute_result"
    },
    {
     "data": {
      "image/png": "[encoded data removed]",
      "text/plain": [
       "<Figure size 360x360 with 1 Axes>"
      ]
     },
     "metadata": {
      "needs_background": "light"
     },
     "output_type": "display_data"
    }
   ],
   "source": [
    "fig, ax = plt.subplots(nrows=1, ncols=1,figsize=(5,5))\n",
    "cluster = ads.groupby(\"ad\").apply(cluster_percent_change).groupby(\"cost_per_click_cluster\").size()\n",
    "ax.bar(list(map(str,cluster.index)), cluster.values)\n",
    "ax.set_xlabel(\"Cluster\")\n",
    "ax.set_ylabel(\"Count\")\n",
    "ax.set_title(\"Count of Clusters\")"
   ]
  },
  {
   "cell_type": "markdown",
   "metadata": {},
   "source": [
    "## Summary\n",
    "\n",
    "1. We identified the best ad groups through 3 different metrics, net profit, profit per click and conversion rate \n",
    "\n",
    "2. We predicted the number of ads shown on Dec. 15 for each ad group using an ARIMA models (the performance of which could be improved upon using better hyperparameter selection)\n",
    "\n",
    "3. Finally we clustered the ad groups according to the percent change in average cost per click. To do this we first implemented a linear regression, which allowed us to estimate the percent change in cost per click over the given period. The percent change was then clustered according to a hard margin, with flat values designated as having a %change within [-0.5,0.5]\n"
   ]
  },
  {
   "cell_type": "code",
   "execution_count": null,
   "metadata": {},
   "outputs": [],
   "source": []
  }
 ],
 "metadata": {
  "kernelspec": {
   "display_name": "Python 3",
   "language": "python",
   "name": "python3"
  },
  "language_info": {
   "codemirror_mode": {
    "name": "ipython",
    "version": 3
   },
   "file_extension": ".py",
   "mimetype": "text/x-python",
   "name": "python",
   "nbconvert_exporter": "python",
   "pygments_lexer": "ipython3",
   "version": "3.7.6"
  }
 },
 "nbformat": 4,
 "nbformat_minor": 4
}
